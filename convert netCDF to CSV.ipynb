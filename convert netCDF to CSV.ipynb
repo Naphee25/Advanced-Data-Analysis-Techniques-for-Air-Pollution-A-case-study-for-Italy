{
 "cells": [
  {
   "cell_type": "code",
   "execution_count": null,
   "id": "33ab3970",
   "metadata": {},
   "outputs": [],
   "source": [
    "!pip install xarray"
   ]
  },
  {
   "cell_type": "code",
   "execution_count": null,
   "id": "0b78dc23",
   "metadata": {},
   "outputs": [],
   "source": [
    "!pip install netcdf4 h5netcdf"
   ]
  },
  {
   "cell_type": "code",
   "execution_count": null,
   "id": "801806aa",
   "metadata": {},
   "outputs": [],
   "source": [
    "import os\n",
    "\n",
    "# pathData = 'Users/USER/PycharmProjects/Thesis/netCDF'\n",
    "\n",
    "pathData = '/content/gdrive/MyDrive/Masters/Thesis/Dataset/netCDF'\n",
    "\n",
    "# Check if the path ends with a slash\n",
    "if not pathData.endswith('/'):\n",
    "  # Add a slash to the end of the path if it does not already end with one\n",
    "  pathData += '/'\n",
    "    \n",
    "    \n",
    "contents = os.listdir(pathData)\n",
    "print(contents)"
   ]
  },
  {
   "cell_type": "code",
   "execution_count": null,
   "id": "8f2e44fc",
   "metadata": {},
   "outputs": [],
   "source": [
    "import os\n",
    "import xarray as xr\n",
    "\n",
    "# netcdf_dir = '/Users/USER/PycharmProjects/Thesis/netCDF/'\n",
    "# csv_dir = '/Users/USER/PycharmProjects/Thesis/csv/'\n",
    "\n",
    "netcdf_dir = '/content/gdrive/MyDrive/Masters/Thesis/Dataset/netCDF/'\n",
    "csv_dir = '/content/gdrive/MyDrive/Masters/Thesis/Dataset/csv/'\n",
    "\n",
    "# Set a loop to create a .csv file for each .nc file listed in `files_to_convert`\n",
    "for filename in os.listdir(pathData):\n",
    "    csv_file = csv_dir + filename[:-3] + '.csv'\n",
    "    if not os.path.isfile(csv_file):\n",
    "        ds = xr.open_dataset(pathData + filename)\n",
    "        df = ds.to_dataframe()\n",
    "        df.to_csv(csv_file)\n",
    "        print (filename + ' has been processed to .csv')\n",
    "    else:\n",
    "        print(f\"{csv_file} already exists, skipping\")\n"
   ]
  }
 ],
 "metadata": {
  "kernelspec": {
   "display_name": "Python 3 (ipykernel)",
   "language": "python",
   "name": "python3"
  },
  "language_info": {
   "codemirror_mode": {
    "name": "ipython",
    "version": 3
   },
   "file_extension": ".py",
   "mimetype": "text/x-python",
   "name": "python",
   "nbconvert_exporter": "python",
   "pygments_lexer": "ipython3",
   "version": "3.7.0"
  }
 },
 "nbformat": 4,
 "nbformat_minor": 5
}
